{
 "cells": [
  {
   "cell_type": "markdown",
   "id": "67e53442",
   "metadata": {},
   "source": [
    "# <font color='darkgreen'>DATA SCIENCE EM MARKETING</font>\n",
    "## <font color='darkgreen'>SEGMENTAÇÃO DE CLIENTES</font>\n",
    "## <font color='darkgreen'>Machine Learning - Estatística - Análise e Visualização de Dados</font>"
   ]
  },
  {
   "cell_type": "markdown",
   "id": "245e93d4",
   "metadata": {},
   "source": [
    "Este Projeto envolve o uso de aprendizado não supervisionado para a segmentação de clientes, com o objetivo de encontrar grupos similares e ajudar a equipe de Marketing a compreender como orientar melhor as campanhas, de acordo com o perfil dos clientes. "
   ]
  },
  {
   "cell_type": "markdown",
   "id": "a8e60e9c",
   "metadata": {},
   "source": [
    "## Instalar e Carregar Pacotes"
   ]
  },
  {
   "cell_type": "code",
   "execution_count": null,
   "id": "fee75e80",
   "metadata": {},
   "outputs": [],
   "source": [
    "# Usado para resolver bug do K-Means\n",
    "!pip install -q threadpoolctl==3.5.0"
   ]
  },
  {
   "cell_type": "code",
   "execution_count": null,
   "id": "acef13d8",
   "metadata": {},
   "outputs": [],
   "source": [
    "# Importar pacotes\n",
    "\n",
    "# Manipulação de dados\n",
    "import numpy as np\n",
    "import pandas as pd\n",
    "\n",
    "# Estatística e Machine Learning\n",
    "from scipy import stats\n",
    "import threadpoolctl\n",
    "import sklearn\n",
    "from sklearn.preprocessing import StandardScaler\n",
    "from sklearn.cluster import KMeans\n",
    "from sklearn.metrics import silhouette_score\n",
    "\n",
    "# Visualização de dados\n",
    "import seaborn as sns\n",
    "import matplotlib.pyplot as plt\n",
    "\n",
    "import warnings\n",
    "warnings.filterwarnings('ignore')"
   ]
  },
  {
   "cell_type": "code",
   "execution_count": null,
   "id": "970dee71",
   "metadata": {},
   "outputs": [],
   "source": [
    "# Gravar versões de pacotes\n",
    "!pip install -q -U watermark"
   ]
  },
  {
   "cell_type": "code",
   "execution_count": null,
   "id": "c0de192f",
   "metadata": {},
   "outputs": [],
   "source": [
    "# Versões dos pacotes\n",
    "%reload_ext watermark\n",
    "%watermark --iversions"
   ]
  },
  {
   "cell_type": "markdown",
   "id": "712c38db",
   "metadata": {},
   "source": [
    "## Carregar Dados"
   ]
  },
  {
   "cell_type": "code",
   "execution_count": null,
   "id": "f0e85487",
   "metadata": {},
   "outputs": [],
   "source": [
    "# Garantir reprodutibilidade\n",
    "np.random.seed(42)"
   ]
  },
  {
   "cell_type": "code",
   "execution_count": null,
   "id": "47fb01b9",
   "metadata": {},
   "outputs": [],
   "source": [
    "# Carregar dataset\n",
    "df = pd.read_csv('dataset.csv')"
   ]
  },
  {
   "cell_type": "code",
   "execution_count": null,
   "id": "7f068bc3",
   "metadata": {},
   "outputs": [],
   "source": [
    "# Shape\n",
    "df.shape"
   ]
  },
  {
   "cell_type": "code",
   "execution_count": null,
   "id": "7b8aaf82",
   "metadata": {},
   "outputs": [],
   "source": [
    "# Info\n",
    "df.info()"
   ]
  },
  {
   "cell_type": "code",
   "execution_count": null,
   "id": "0ca7cf82",
   "metadata": {},
   "outputs": [],
   "source": [
    "# Dados iniciais\n",
    "df.head()"
   ]
  },
  {
   "cell_type": "code",
   "execution_count": null,
   "id": "100da450",
   "metadata": {},
   "outputs": [],
   "source": [
    "# Dados aleatórios\n",
    "df.sample(10)"
   ]
  },
  {
   "cell_type": "raw",
   "id": "10f7837e",
   "metadata": {},
   "source": [
    "Dicionário de Dados:\n",
    "\n",
    "Idade: idade do cliente em anos.\n",
    "Gasto_Mensal: valor gasto mensal pelo cliente em reais.\n",
    "Tempo_de_Assinatura: número de meses que o cliente está assinando o serviço.\n",
    "Taxa_de_Uso: proporção de uso do serviço pelo cliente (variando de 0 a 1).\n",
    "Suporte_Tickets: número de tickets de suporte gerados pelo cliente.\n",
    "Cancelou: indicador binário se o cliente cancelou o serviço (0 = Não, 1 = Sim)."
   ]
  },
  {
   "cell_type": "markdown",
   "id": "445488aa",
   "metadata": {},
   "source": [
    "## Análise Exploratória e Limpeza de Dados"
   ]
  },
  {
   "cell_type": "code",
   "execution_count": null,
   "id": "4213322b",
   "metadata": {},
   "outputs": [],
   "source": [
    "# Verificar valores nulos\n",
    "print(df.isnull().sum())"
   ]
  },
  {
   "cell_type": "markdown",
   "id": "9a910a77",
   "metadata": {},
   "source": [
    "O algoritmo KMeans pode ser impactado por valores outliers e pela correlação entre as variáveis, pois utiliza a distância euclidiana entre os pontos para formar clusters e o cálcuo de distância, vamos usar boxplot e uma matriz de correlação para analisar os dados."
   ]
  },
  {
   "cell_type": "code",
   "execution_count": null,
   "id": "0f85d5fb",
   "metadata": {},
   "outputs": [],
   "source": [
    "# Plotar boxplots\n",
    "df.plot(subplots=True, layout=(3,3), kind='box', figsize=(12,14), patch_artist=True,\n",
    "            boxprops=dict(facecolor='#006400'))\n",
    "\n",
    "# Ajustar espaçamento\n",
    "plt.subplots_adjust(wspace=0.1)"
   ]
  },
  {
   "cell_type": "code",
   "execution_count": null,
   "id": "6f6748ac",
   "metadata": {},
   "outputs": [],
   "source": [
    "# Observe que a variável cancelou é categórica\n",
    "df.Cancelou.value_counts()"
   ]
  },
  {
   "cell_type": "markdown",
   "id": "959dba9b",
   "metadata": {},
   "source": [
    "### Identificar os outliers"
   ]
  },
  {
   "cell_type": "code",
   "execution_count": null,
   "id": "36eef54b",
   "metadata": {},
   "outputs": [],
   "source": [
    "# Definir o Intervalo Interquartil\n",
    "Q1 = df.quantile(0.25)\n",
    "Q3 = df.quantile(0.75)\n",
    "IQR = Q3 - Q1"
   ]
  },
  {
   "cell_type": "code",
   "execution_count": null,
   "id": "84b8908f",
   "metadata": {},
   "outputs": [],
   "source": [
    "# Verificar os valores que estão acima ou abaixo do IQR\n",
    "outliers = ((df < (Q1 - 2.5 * IQR)) | (df > (Q3 + 2.5 * IQR))).any(axis = 1)"
   ]
  },
  {
   "cell_type": "code",
   "execution_count": null,
   "id": "97db2b5b",
   "metadata": {},
   "outputs": [],
   "source": [
    "# Filtrar os outliers\n",
    "df_outliers = df[outliers]"
   ]
  },
  {
   "cell_type": "code",
   "execution_count": null,
   "id": "fc73527d",
   "metadata": {},
   "outputs": [],
   "source": [
    "# Visualizar os outliers\n",
    "df_outliers"
   ]
  },
  {
   "cell_type": "markdown",
   "id": "cab12ffe",
   "metadata": {},
   "source": [
    "Identificados os outliers vamos, tratar deles logo à frente!"
   ]
  },
  {
   "cell_type": "code",
   "execution_count": null,
   "id": "8ab61ec2",
   "metadata": {},
   "outputs": [],
   "source": [
    "# Calcular a matriz de correlação\n",
    "correlation_matrix = df.corr()"
   ]
  },
  {
   "cell_type": "code",
   "execution_count": null,
   "id": "0fa811a6",
   "metadata": {},
   "outputs": [],
   "source": [
    "correlation_matrix"
   ]
  },
  {
   "cell_type": "code",
   "execution_count": null,
   "id": "92339bcc",
   "metadata": {},
   "outputs": [],
   "source": [
    "# Plot\n",
    "plt.figure(figsize = (10,8))\n",
    "sns.heatmap(correlation_matrix, annot = True, cmap = 'YlGnBu')\n",
    "plt.title('Matriz de Correlação')\n",
    "plt.show()"
   ]
  },
  {
   "cell_type": "code",
   "execution_count": null,
   "id": "90faf4df",
   "metadata": {},
   "outputs": [],
   "source": [
    "# Criar o padronizador\n",
    "scaler = StandardScaler()"
   ]
  },
  {
   "cell_type": "code",
   "execution_count": null,
   "id": "bd6d03d4",
   "metadata": {},
   "outputs": [],
   "source": [
    "# Padronizando as Variáveis\n",
    "df_pd = pd.DataFrame(scaler.fit_transform(df), columns = df.columns)"
   ]
  },
  {
   "cell_type": "markdown",
   "id": "829fc406",
   "metadata": {},
   "source": [
    "## Definir o Valor de K em Modelos de Clusterização\n"
   ]
  },
  {
   "cell_type": "markdown",
   "id": "f788b529",
   "metadata": {},
   "source": [
    "### Método Elbow\n",
    "\n",
    "O Método do Cotovelo é uma técnica usada para determinar o número ideal de grupos em uma análise de cluster, como o K-means.\n",
    "O gráfico resultante ajuda a identificar o ponto onde a redução na inércia começa a diminuir significativamente. Este ponto é considerado o número ideal de clusters para o de dados."
   ]
  },
  {
   "cell_type": "code",
   "execution_count": null,
   "id": "bc54fa24",
   "metadata": {},
   "outputs": [],
   "source": [
    "# Lista para armazenar o SSE\n",
    "sse = []"
   ]
  },
  {
   "cell_type": "code",
   "execution_count": null,
   "id": "8ba2dfc2",
   "metadata": {},
   "outputs": [],
   "source": [
    "# Range de valores de k a serem testados\n",
    "k_range = range(1, 11)"
   ]
  },
  {
   "cell_type": "code",
   "execution_count": null,
   "id": "c8dc8b17",
   "metadata": {},
   "outputs": [],
   "source": [
    "# Usando o Kmeans para testar 10 modelos\n",
    "for k in k_range:\n",
    "    kmeans = KMeans(n_clusters = k)\n",
    "    kmeans.fit(df_pd)\n",
    "    sse.append(kmeans.inertia_)"
   ]
  },
  {
   "cell_type": "code",
   "execution_count": null,
   "id": "7468f2cc",
   "metadata": {},
   "outputs": [],
   "source": [
    "# Plot\n",
    "plt.plot(k_range, sse, 'bx-')\n",
    "plt.xlabel('Número de Clusters')\n",
    "plt.ylabel('Soma dos Quadrados dentro do Cluster')\n",
    "plt.title('Método Elbow')\n",
    "plt.show()"
   ]
  },
  {
   "cell_type": "markdown",
   "id": "37961efd",
   "metadata": {},
   "source": [
    "O gráfico do método Elbow sugere um ponto de inflexão em torno de 3 a 4 clusters."
   ]
  },
  {
   "cell_type": "markdown",
   "id": "3221aa71",
   "metadata": {},
   "source": [
    "### Método da Silhueta \n",
    "\n",
    "O Método da Silhueta é outra técnica usada para determinar o número ideal de clusters em uma análise de cluster. Ele avalia a qualidade dos clusters medindo quão semelhantes os pontos dentro de um cluster são uns aos outros (coesão) em comparação com os pontos de outros clusters (separação). A pontuação da silhueta varia de -1 a 1, onde valores próximos a 1 indicam que os pontos estão bem agrupados, valores próximos a 0 indicam que os pontos estão na fronteira entre dois clusters, e valores negativos indicam que os pontos podem ter sido atribuídos ao cluster errado."
   ]
  },
  {
   "cell_type": "code",
   "execution_count": null,
   "id": "caff0f45",
   "metadata": {},
   "outputs": [],
   "source": [
    "# Lista para o Silhouette score\n",
    "sil_score = []\n",
    "\n",
    "# Loop pelo range de valores de k a serem testados\n",
    "for k in k_range:\n",
    "    kmeans = KMeans(n_clusters = k)\n",
    "    kmeans.fit(df_pd)\n",
    "    \n",
    "    # Silhouette score não é definido para k = 1, então filtramos\n",
    "    if k != 1:\n",
    "        sil_score.append(silhouette_score(df_pd, kmeans.labels_))\n",
    "\n",
    "# Plot\n",
    "plt.plot(k_range[1:], sil_score, 'bx-')\n",
    "plt.xlabel('Número de Clusters')\n",
    "plt.ylabel('Coeficiente de Silhueta')\n",
    "plt.title('Método Silhueta')\n",
    "plt.show()"
   ]
  },
  {
   "cell_type": "markdown",
   "id": "5a537873",
   "metadata": {},
   "source": [
    "## Construir a Primeira Versão do Modelo de Clusterização"
   ]
  },
  {
   "cell_type": "code",
   "execution_count": null,
   "id": "10c8a72e",
   "metadata": {},
   "outputs": [],
   "source": [
    "# Modelo com 4 clusters\n",
    "modelo_kmeans = KMeans(n_clusters = 4, random_state = 42)"
   ]
  },
  {
   "cell_type": "code",
   "execution_count": null,
   "id": "fea16d4a",
   "metadata": {},
   "outputs": [],
   "source": [
    "# Treinar o modelo e salvar o resultado em uma coluna do df original\n",
    "df['cluster'] = modelo_kmeans.fit_predict(df_pd)"
   ]
  },
  {
   "cell_type": "code",
   "execution_count": null,
   "id": "bf2da523",
   "metadata": {},
   "outputs": [],
   "source": [
    "# Amostra aleatória de dados\n",
    "df.sample(10)"
   ]
  },
  {
   "cell_type": "code",
   "execution_count": null,
   "id": "c0504d01",
   "metadata": {},
   "outputs": [],
   "source": [
    "df.shape"
   ]
  },
  {
   "cell_type": "code",
   "execution_count": null,
   "id": "7456b728",
   "metadata": {},
   "outputs": [],
   "source": [
    "# Usar o dataset original, incluindo os outliers\n",
    "df_limpo = df"
   ]
  },
  {
   "cell_type": "code",
   "execution_count": null,
   "id": "666d5751",
   "metadata": {},
   "outputs": [],
   "source": [
    "df_limpo.shape"
   ]
  },
  {
   "cell_type": "markdown",
   "id": "c5c23d32",
   "metadata": {},
   "source": [
    "### PairGrid"
   ]
  },
  {
   "cell_type": "code",
   "execution_count": null,
   "id": "d481bd98",
   "metadata": {},
   "outputs": [],
   "source": [
    "# Criar um mapa de cores\n",
    "palette = sns.color_palette('dark', n_colors = len(df_limpo['cluster'].unique()))\n",
    "color_map = dict(zip(df_limpo['cluster'].unique(), palette))\n",
    "\n",
    "# Plot\n",
    "g = sns.PairGrid(df_limpo, hue = 'cluster', palette = color_map, diag_sharey = False)\n",
    "g.map_upper(sns.scatterplot)\n",
    "g.map_lower(sns.kdeplot)\n",
    "g.map_diag(sns.kdeplot, lw = 2)\n",
    "plt.show()\n",
    "\n",
    "# Visualizar o mapa de cores\n",
    "for cluster, color in color_map.items():\n",
    "    plt.scatter([], [], c = [color], label = f'Cluster {cluster}')\n",
    "plt.legend(title = 'Legenda de Cores dos Clusters')\n",
    "plt.axis('off')\n",
    "plt.show()"
   ]
  },
  {
   "cell_type": "markdown",
   "id": "d891f2ae",
   "metadata": {},
   "source": [
    "## Construir a Segunda Versão do Modelo de Clusterização"
   ]
  },
  {
   "cell_type": "code",
   "execution_count": null,
   "id": "2611b460",
   "metadata": {},
   "outputs": [],
   "source": [
    "# Modelo com 3 clusters\n",
    "modelo_kmeans = KMeans(n_clusters = 3, random_state = 42)"
   ]
  },
  {
   "cell_type": "code",
   "execution_count": null,
   "id": "4ef06855",
   "metadata": {},
   "outputs": [],
   "source": [
    "df.drop('cluster', axis = 1, inplace = True)"
   ]
  },
  {
   "cell_type": "code",
   "execution_count": null,
   "id": "b5f9d61d",
   "metadata": {},
   "outputs": [],
   "source": [
    "df.head()"
   ]
  },
  {
   "cell_type": "code",
   "execution_count": null,
   "id": "839f59c9",
   "metadata": {},
   "outputs": [],
   "source": [
    "# Treinar o modelo e salvar o resultado em uma coluna do dataframe original\n",
    "df['cluster'] = modelo_kmeans.fit_predict(df_pd)"
   ]
  },
  {
   "cell_type": "code",
   "execution_count": null,
   "id": "f0b8448e",
   "metadata": {},
   "outputs": [],
   "source": [
    "# Amostra aleatória de dados\n",
    "df.sample(10)"
   ]
  },
  {
   "cell_type": "code",
   "execution_count": null,
   "id": "94ab32f2",
   "metadata": {},
   "outputs": [],
   "source": [
    "# Mantém apenas as linhas que não são outliers\n",
    "df_limpo = df[~outliers]"
   ]
  },
  {
   "cell_type": "code",
   "execution_count": null,
   "id": "2eca6ad4",
   "metadata": {},
   "outputs": [],
   "source": [
    "# Criar um mapa de cores\n",
    "palette = sns.color_palette('dark', n_colors = len(df_limpo['cluster'].unique()))\n",
    "color_map = dict(zip(df_limpo['cluster'].unique(), palette))\n",
    "\n",
    "# Plot\n",
    "g = sns.PairGrid(df_limpo, hue = 'cluster', palette = color_map, diag_sharey = False)\n",
    "g.map_upper(sns.scatterplot)\n",
    "g.map_lower(sns.kdeplot)\n",
    "g.map_diag(sns.kdeplot, lw = 2)\n",
    "plt.show()\n",
    "\n",
    "# Visualizar o mapa de cores\n",
    "for cluster, color in color_map.items():\n",
    "    plt.scatter([], [], c = [color], label = f'Cluster {cluster}')\n",
    "plt.legend(title = 'Legenda de Cores dos Clusters')\n",
    "plt.axis('off')\n",
    "plt.show()"
   ]
  },
  {
   "cell_type": "markdown",
   "id": "6498f8e4",
   "metadata": {},
   "source": [
    "## Análise dos Clusters"
   ]
  },
  {
   "cell_type": "code",
   "execution_count": null,
   "id": "869f7109",
   "metadata": {},
   "outputs": [],
   "source": [
    "df_limpo[df_limpo.cluster == 0].head()"
   ]
  },
  {
   "cell_type": "code",
   "execution_count": null,
   "id": "19178c65",
   "metadata": {},
   "outputs": [],
   "source": [
    "df_limpo[df_limpo.cluster == 0].mean()"
   ]
  },
  {
   "cell_type": "raw",
   "id": "0cab271c",
   "metadata": {},
   "source": [
    "Cluster 0: Média de Idade: 37 anos; Gasto Mensal: 213 reais; Tempo de Assinatura: 15 meses; Taxa de Uso: 0.63; \n",
    "Suporte Tickets: 1.6 e Cancelamento: 51%."
   ]
  },
  {
   "cell_type": "code",
   "execution_count": null,
   "id": "06d6ae1a",
   "metadata": {},
   "outputs": [],
   "source": [
    "df_limpo[df_limpo.cluster == 1].head()"
   ]
  },
  {
   "cell_type": "code",
   "execution_count": null,
   "id": "1a655ada",
   "metadata": {},
   "outputs": [],
   "source": [
    "df_limpo[df_limpo.cluster == 1].mean()"
   ]
  },
  {
   "cell_type": "raw",
   "id": "5ccd08fd",
   "metadata": {},
   "source": [
    "Cluster 1: Média de Idade: 55 anos; Gasto Mensal: 277 reais; Tempo de Assinatura: 20 meses; Taxa de Uso: 0.90;\n",
    "Suporte Tickets: 2.16 e Cancelamento: 89%"
   ]
  },
  {
   "cell_type": "code",
   "execution_count": null,
   "id": "d569386d",
   "metadata": {},
   "outputs": [],
   "source": [
    "df_limpo[df_limpo.cluster == 2].head()"
   ]
  },
  {
   "cell_type": "code",
   "execution_count": null,
   "id": "831f377e",
   "metadata": {},
   "outputs": [],
   "source": [
    "df_limpo[df_limpo.cluster == 2].mean()"
   ]
  },
  {
   "cell_type": "raw",
   "id": "5e976085",
   "metadata": {},
   "source": [
    "Cluster 2: Média de Idade: 26 anos; Gasto Mensal: 99 reais; Tempo de Assinatura: 6 meses; Taxa de Uso: 0.29\n",
    "Suporte Tickets: 0.77 e Cancelamento: 9%"
   ]
  },
  {
   "cell_type": "markdown",
   "id": "91a97b44",
   "metadata": {},
   "source": [
    "### Centróides \n",
    "\n",
    "Os centroides são os pontos médios dos clusters que representam as \"médias\" ou \"centros\" dos dados agrupados em cada cluster.Eles fornecem uma maneira de resumir as características principais de cada cluster e são úteis para entender a distribuição e a variação dos dados dentro dos clusters."
   ]
  },
  {
   "cell_type": "code",
   "execution_count": null,
   "id": "79a2097d",
   "metadata": {},
   "outputs": [],
   "source": [
    "# Extraindo os centróides\n",
    "centroides = modelo_kmeans.cluster_centers_"
   ]
  },
  {
   "cell_type": "code",
   "execution_count": null,
   "id": "eef94b00",
   "metadata": {},
   "outputs": [],
   "source": [
    "centroides"
   ]
  },
  {
   "cell_type": "markdown",
   "id": "2144a20a",
   "metadata": {},
   "source": [
    "Cada linha representa um cluster com as seis variáveis (colunas)."
   ]
  },
  {
   "cell_type": "markdown",
   "id": "740d7843",
   "metadata": {},
   "source": [
    "### Plot dos Clusters"
   ]
  },
  {
   "cell_type": "code",
   "execution_count": null,
   "id": "8e9e1406",
   "metadata": {},
   "outputs": [],
   "source": [
    "# Cria a figura\n",
    "plt.figure(figsize = (8, 6))\n",
    "\n",
    "# Loop pelos clusters\n",
    "for cluster_num in range(3):\n",
    "    mask = df['cluster'] == cluster_num\n",
    "    plt.scatter(df_pd[mask].iloc[:, 0], df_pd[mask].iloc[:, 1], label = f'Cluster {cluster_num}')\n",
    "\n",
    "# Plot\n",
    "plt.scatter(modelo_kmeans.cluster_centers_[:, 0], \n",
    "            modelo_kmeans.cluster_centers_[:, 1], \n",
    "            s = 300, \n",
    "            c = 'blue', \n",
    "            marker = 'X', \n",
    "            label = 'Centróides')\n",
    "plt.legend()\n",
    "plt.title(\"Plot de Agrupamento\")\n",
    "plt.show()"
   ]
  },
  {
   "cell_type": "markdown",
   "id": "fedc7e6c",
   "metadata": {},
   "source": [
    "**Interpretação**:\n",
    "\n",
    "\n",
    "**Cluster 0**: Média de Idade: 37 anos; Gasto Mensal: 213 reais; Tempo de Assinatura: 15 meses; Taxa de Uso: 0.63; \n",
    "Suporte Tickets: 1.6 e Cancelamento: 51%.\n",
    "\n",
    "O Cluster 0 (primeira linha dos centróides) contém em sua maioria clientes de ambos os grupos, cancelou e não cancelou. Observe que os valores estão próximos de 0, o que sugere que este cluster pode estar centrado próximo à média do conjunto de dados. Esse é o grupo intermediário.\n",
    "\n",
    "\n",
    "**Cluster 1**: Média de Idade: 55 anos; Gasto Mensal: 277 reais; Tempo de Assinatura: 20 meses; Taxa de Uso: 0.90;\n",
    "Suporte Tickets: 2.16 e Cancelamento: 89%\n",
    "\n",
    "O Cluster 1 (segunda linha) contém em sua maioria clientes do grupo que cancelou a assinatura. Os valores são positivos e superiores a 1 para a maioria das dimensões, o que sugere que as observações neste cluster têm valores superiores à média para estas dimensões.\n",
    "\n",
    "\n",
    "**Cluster 2**: Média de Idade: 26 anos; Gasto Mensal: 99 reais; Tempo de Assinatura: 6 meses; Taxa de Uso: 0.29\n",
    "Suporte Tickets: 0.77 e Cancelamento: 9%\n",
    "\n",
    "O Cluster 2 (terceira linha) contém em sua maioria clientes do grupo que não cancelou a assinatura. Os valores são negativos e inferiores a -1 para a maioria das dimensões, o que sugere que as observações neste cluster têm valores inferiores à média para estas dimensões."
   ]
  },
  {
   "cell_type": "markdown",
   "id": "a84790fd",
   "metadata": {},
   "source": [
    "Veja quantas observações foram atribuídas a cada cluster para entender o tamanho deles."
   ]
  },
  {
   "cell_type": "code",
   "execution_count": null,
   "id": "3c4b8fcf",
   "metadata": {},
   "outputs": [],
   "source": [
    "df['cluster'].value_counts()"
   ]
  },
  {
   "cell_type": "markdown",
   "id": "0a693d2b",
   "metadata": {},
   "source": [
    "## Métrica da Qualidade dos Clusters"
   ]
  },
  {
   "cell_type": "markdown",
   "id": "49853a08",
   "metadata": {},
   "source": [
    "### Análise de Silhueta\n",
    "\n",
    "A Análise do Método Silhueta é uma técnica utilizada para avaliar a qualidade do agrupamento em análises de cluster. Ela ajuda a determinar o quão bem cada ponto foi agrupado e quão apropriado é o número de clusters escolhido\n",
    "\n",
    "Interpretação do Método Silhueta\n",
    "Coeficiente de Silhueta (Silhouette Score):\n",
    "\n",
    "Cada ponto de dados tem um valor de silhueta que varia de -1 a 1.\n",
    "Um valor de silhueta próximo a 1 indica que o ponto está bem dentro de seu próprio cluster e longe de outros clusters.\n",
    "Um valor próximo de 0 indica que o ponto está na fronteira ou sobreposição de dois clusters.\n",
    "Um valor negativo indica que o ponto pode ter sido agrupado no cluster errado."
   ]
  },
  {
   "cell_type": "code",
   "execution_count": null,
   "id": "7a650cc6",
   "metadata": {},
   "outputs": [],
   "source": [
    "df.groupby('cluster').mean()"
   ]
  },
  {
   "cell_type": "code",
   "execution_count": null,
   "id": "74db568c",
   "metadata": {},
   "outputs": [],
   "source": [
    "score = silhouette_score(df_pd, df['cluster'])\n",
    "print(score)"
   ]
  }
 ],
 "metadata": {
  "kernelspec": {
   "display_name": "Python 3 (ipykernel)",
   "language": "python",
   "name": "python3"
  },
  "language_info": {
   "codemirror_mode": {
    "name": "ipython",
    "version": 3
   },
   "file_extension": ".py",
   "mimetype": "text/x-python",
   "name": "python",
   "nbconvert_exporter": "python",
   "pygments_lexer": "ipython3",
   "version": "3.11.5"
  }
 },
 "nbformat": 4,
 "nbformat_minor": 5
}
